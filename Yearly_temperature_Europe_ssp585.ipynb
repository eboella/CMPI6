{
 "cells": [
  {
   "cell_type": "code",
   "execution_count": null,
   "id": "laden-component",
   "metadata": {},
   "outputs": [],
   "source": [
    "from pyesgf.search import SearchConnection\n",
    "import os\n",
    "import pandas as pd\n",
    "import requests\n",
    "from tqdm import tqdm\n",
    "import re\n",
    "import shutil\n",
    "import datetime as dt\n",
    "import numpy as np\n",
    "from matplotlib import pyplot as plt\n",
    "from netCDF4 import Dataset, date2index, num2date, date2num"
   ]
  },
  {
   "cell_type": "code",
   "execution_count": null,
   "id": "relevant-noise",
   "metadata": {},
   "outputs": [],
   "source": [
    "def list_files(directory):\n",
    "    \n",
    "    \"\"\"\n",
    "    List the content of a folder.\n",
    "\n",
    "    Parameters\n",
    "    ----------\n",
    "    directory: string\n",
    "        The name of the folder\n",
    "\n",
    "    Returns\n",
    "    -------\n",
    "    Python object\n",
    "        Files contained in the folder\n",
    "    \"\"\"\n",
    "\n",
    "    e0 = '.nc'\n",
    "    return (f for f in os.listdir(directory) if e0 in f)"
   ]
  },
  {
   "cell_type": "markdown",
   "id": "received-spending",
   "metadata": {},
   "source": [
    "Calculation of the yearly temperature trend from 2015 to 2100 over Europe.\n",
    "The ensemble r5i1p1f1 was selected, but other can be chosen.\n",
    "The temperture has been average over the whole Europe region (Lon -10 50 Lat 30 75)."
   ]
  },
  {
   "cell_type": "code",
   "execution_count": null,
   "id": "matched-burke",
   "metadata": {},
   "outputs": [],
   "source": [
    "variant_label = 'r5i1p1f1'\n",
    "year0 = 2015\n",
    "yearf = 2100\n",
    "target0 = {\"lat\": 30, \"lon\": 360-10}\n",
    "targetf = {\"lat\": 75, \"lon\": 50}\n",
    "\n",
    "new_folder = 'files_2015_2100'\n",
    "useful_files = list_files(new_folder)\n",
    "\n",
    "temp = np.empty((0, 0))\n",
    "dates = np.empty((0, 0))\n",
    "models = np.empty((0, 0), dtype = str)\n",
    "for filename in useful_files:\n",
    "    filename_path = new_folder + '/' + filename\n",
    "    if variant_label in filename_path:\n",
    "        nc = Dataset(filename_path)\n",
    "        nc_time = nc.variables['time']\n",
    "        time_start = date2index(dt.datetime(year0, 1, 1), nc_time, select=\"nearest\")\n",
    "        time_end = date2index(dt.datetime(yearf, 12, 31), nc_time, select=\"nearest\")\n",
    "        nc_lat = nc.variables['lat'][:].data\n",
    "        nc_lon = nc.variables['lon'][:].data\n",
    "        lat_cell0 = np.argmin(np.abs(nc_lat - target0['lat']))\n",
    "        lat_cellf = np.argmin(np.abs(nc_lat - targetf['lat']))\n",
    "        lon_cell0 = np.argmin(np.abs(nc_lon - target0['lon']))\n",
    "        lon_cellf = np.argmin(np.abs(nc_lon - targetf['lon']))\n",
    "        dat = nc.variables['ts'][time_start:(time_end + 1), lat_cell0:lat_cellf, lon_cell0:lon_cellf:-1]\n",
    "        dat = np.subtract(dat.data, 273.15)\n",
    "        dat_ave = np.mean(np.mean(dat, axis=2),axis=1)\n",
    "        temp = np.append(temp, dat_ave) \n",
    "        datef = num2date(nc_time[time_start:time_end + 1], units=nc_time.units, calendar=nc_time.calendar)\n",
    "        dates = np.append(dates, datef)\n",
    "        subs = re.search(r'Amon_.+_ssp585', filename).group()\n",
    "        modelf = np.chararray(dat_ave.shape, itemsize=len(subs[5:-7]))\n",
    "        modelf[:] = subs[5:-7]\n",
    "        models = np.append(models, modelf)"
   ]
  },
  {
   "cell_type": "markdown",
   "id": "biological-welding",
   "metadata": {},
   "source": [
    "Plot of the yearly temperature trend from 2015 to 2100 over Europe. In this case the selected data contained two models. The script can plot data for an arbitrary number of models."
   ]
  },
  {
   "cell_type": "code",
   "execution_count": null,
   "id": "advisory-macro",
   "metadata": {},
   "outputs": [],
   "source": [
    "data_models = []\n",
    "for i in range(0,len(models)):\n",
    "    if models[i] not in data_models:\n",
    "        data_models.append(models[i])\n",
    "\n",
    "fig = plt.figure(figsize=(10,4))\n",
    "for mod in data_models:\n",
    "    date_model = dates[models == mod]\n",
    "    temp_model = temp[models == mod]\n",
    "    ind = np.argsort(date_model)\n",
    "    date_model = date_model[ind]\n",
    "    temp_model = temp_model[ind]\n",
    "    new_dates = [dt.date(i.year, i.month, i.day) for i in date_model]\n",
    "    plt.plot(new_dates,temp_model,label = mod)\n",
    "plt.xlabel(\"dates\", fontsize=20)\n",
    "plt.ylabel(\"Temperature [C]\", fontsize=20)\n",
    "plt.legend(fontsize=20)\n",
    "plt.tick_params(labelsize=20)\n",
    "plt.show()\n",
    "\n",
    "fig.savefig('Yearly_temperature_Europe_ssp585.png', bbox_inches='tight')"
   ]
  }
 ],
 "metadata": {
  "kernelspec": {
   "display_name": "meteo_k",
   "language": "python",
   "name": "meteo_k"
  },
  "language_info": {
   "codemirror_mode": {
    "name": "ipython",
    "version": 3
   },
   "file_extension": ".py",
   "mimetype": "text/x-python",
   "name": "python",
   "nbconvert_exporter": "python",
   "pygments_lexer": "ipython3",
   "version": "3.10.2"
  }
 },
 "nbformat": 4,
 "nbformat_minor": 5
}
