{
 "cells": [
  {
   "cell_type": "code",
   "execution_count": null,
   "id": "identical-director",
   "metadata": {},
   "outputs": [],
   "source": [
    "from pyesgf.search import SearchConnection\n",
    "import os\n",
    "import pandas as pd\n",
    "import requests\n",
    "from tqdm import tqdm\n",
    "import re\n",
    "import shutil\n",
    "import datetime as dt\n",
    "import numpy as np\n",
    "from matplotlib import pyplot as plt\n",
    "from netCDF4 import Dataset, date2index, num2date, date2num"
   ]
  },
  {
   "cell_type": "code",
   "execution_count": null,
   "id": "limited-clinic",
   "metadata": {},
   "outputs": [],
   "source": [
    "def create_folder(folder):\n",
    "    \n",
    "    \"\"\"\n",
    "    Create a folder.\n",
    "\n",
    "    Parameters\n",
    "    ----------\n",
    "    folder: string\n",
    "        The name of the folder\n",
    "    \"\"\"\n",
    "        \n",
    "    if os.path.exists(folder):\n",
    "        shutil.rmtree(folder, ignore_errors=True)\n",
    "    os.mkdir(folder)"
   ]
  },
  {
   "cell_type": "code",
   "execution_count": null,
   "id": "leading-central",
   "metadata": {},
   "outputs": [],
   "source": [
    "def download(url, filename, folder):\n",
    "    \n",
    "    \"\"\"\n",
    "    Download files from the server.\n",
    "\n",
    "    Parameters\n",
    "    ----------\n",
    "    url: string\n",
    "        The url of the file\n",
    "    filename: string\n",
    "        The name of the file\n",
    "    folder: string\n",
    "        The name of the destination folder\n",
    "    \"\"\"\n",
    "        \n",
    "    print(\"Downloading \", filename)\n",
    "    r = requests.get(url, stream=True)\n",
    "    total_size, block_size = int(r.headers.get('content-length', 0)), 1024\n",
    "    with open(folder + '/' + filename, 'wb') as f:\n",
    "        for data in tqdm(r.iter_content(block_size),\n",
    "                         total=total_size//block_size,\n",
    "                         unit='KiB', unit_scale=True):\n",
    "            f.write(data)\n",
    "\n",
    "    if total_size != 0 and os.path.getsize(folder + '/' + filename) != total_size:\n",
    "        print(\"Downloaded size does not match expected size!\\n\",\n",
    "              \"FYI, the status code was \", r.status_code)\n",
    "        os.remove(folder + '/' + filename)"
   ]
  },
  {
   "cell_type": "code",
   "execution_count": null,
   "id": "crucial-casting",
   "metadata": {},
   "outputs": [],
   "source": [
    "conn = SearchConnection('https://esgf-node.llnl.gov/esg-search', distrib=True)"
   ]
  },
  {
   "cell_type": "code",
   "execution_count": null,
   "id": "western-signal",
   "metadata": {},
   "outputs": [],
   "source": [
    "query = conn.new_context(\n",
    "    project = 'CMIP6',\n",
    "    experiment_id = 'ssp585',\n",
    "    source_id = 'ACCESS-CM2,CMCC-ESM2,MPI-ESM1-2-LR',\n",
    "    variable = 'ts',\n",
    "    realm = 'atmos',\n",
    "    frequency = 'mon'\n",
    "    )\n",
    "results = query.search()\n",
    "nentries = len(results)\n",
    "print(\"Found {} entries\".format(nentries))"
   ]
  },
  {
   "cell_type": "code",
   "execution_count": null,
   "id": "blank-affair",
   "metadata": {},
   "outputs": [],
   "source": [
    "files = []\n",
    "num_files = 0\n",
    "for i in range(0,nentries):\n",
    "    hit = results[i].file_context().search()\n",
    "    for j in range(0,len(hit)):\n",
    "        file_info = [hit[j].filename, hit[j].download_url]\n",
    "        files.append(file_info)\n",
    "        num_files += 1\n",
    "    print(\"In entry {}, there are {} files\".format(i,len(hit)))\n",
    "print(\"In total {} files were found\".format(num_files))"
   ]
  },
  {
   "cell_type": "code",
   "execution_count": null,
   "id": "exact-nothing",
   "metadata": {},
   "outputs": [],
   "source": [
    "useful_files = []\n",
    "for i in range(0,len(files)):\n",
    "    filename = files[i][0]\n",
    "    subs = re.search(r'gn_.+nc', filename).group()\n",
    "    start_date = subs[3:7]\n",
    "    end_date = subs[10:14]\n",
    "    if (int(start_date) <= 2015 and int(end_date) >= 2015):\n",
    "        useful_files.append(files[i])\n",
    "    elif (int(start_date) <= 2100 and int(end_date) >= 2100):\n",
    "        useful_files.append(files[i])"
   ]
  },
  {
   "cell_type": "code",
   "execution_count": null,
   "id": "institutional-piece",
   "metadata": {},
   "outputs": [],
   "source": [
    "new_folder = 'files_2015_2100'\n",
    "create_folder(new_folder)\n",
    "for i in range(0,len(useful_files)):\n",
    "    print('Downloading file {} out of {}'.format(i,len(useful_files)))\n",
    "    try:\n",
    "        download(useful_files[i][1],useful_files[i][0],new_folder)\n",
    "    except:\n",
    "        continue"
   ]
  }
 ],
 "metadata": {
  "kernelspec": {
   "display_name": "meteo_k",
   "language": "python",
   "name": "meteo_k"
  },
  "language_info": {
   "codemirror_mode": {
    "name": "ipython",
    "version": 3
   },
   "file_extension": ".py",
   "mimetype": "text/x-python",
   "name": "python",
   "nbconvert_exporter": "python",
   "pygments_lexer": "ipython3",
   "version": "3.10.2"
  }
 },
 "nbformat": 4,
 "nbformat_minor": 5
}
